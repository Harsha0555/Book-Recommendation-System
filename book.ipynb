{
 "cells": [
  {
   "cell_type": "code",
   "execution_count": 1,
   "id": "048d5245",
   "metadata": {},
   "outputs": [],
   "source": [
    "import numpy as np \n",
    "import pandas as pd \n",
    "import matplotlib.pyplot as plt\n",
    "import seaborn as sns\n",
    "import sklearn"
   ]
  },
  {
   "cell_type": "code",
   "execution_count": 2,
   "id": "31132d90",
   "metadata": {},
   "outputs": [
    {
     "data": {
      "text/html": [
       "<div>\n",
       "<style scoped>\n",
       "    .dataframe tbody tr th:only-of-type {\n",
       "        vertical-align: middle;\n",
       "    }\n",
       "\n",
       "    .dataframe tbody tr th {\n",
       "        vertical-align: top;\n",
       "    }\n",
       "\n",
       "    .dataframe thead th {\n",
       "        text-align: right;\n",
       "    }\n",
       "</style>\n",
       "<table border=\"1\" class=\"dataframe\">\n",
       "  <thead>\n",
       "    <tr style=\"text-align: right;\">\n",
       "      <th></th>\n",
       "      <th>Unnamed: 0</th>\n",
       "      <th>title</th>\n",
       "      <th>author</th>\n",
       "      <th>rating</th>\n",
       "      <th>voters</th>\n",
       "      <th>price</th>\n",
       "      <th>currency</th>\n",
       "      <th>description</th>\n",
       "      <th>publisher</th>\n",
       "      <th>page_count</th>\n",
       "      <th>generes</th>\n",
       "      <th>ISBN</th>\n",
       "      <th>language</th>\n",
       "      <th>published_date</th>\n",
       "    </tr>\n",
       "  </thead>\n",
       "  <tbody>\n",
       "    <tr>\n",
       "      <th>0</th>\n",
       "      <td>0</td>\n",
       "      <td>Attack on Titan: Volume 13</td>\n",
       "      <td>Hajime Isayama</td>\n",
       "      <td>4.6</td>\n",
       "      <td>428</td>\n",
       "      <td>43.28</td>\n",
       "      <td>SAR</td>\n",
       "      <td>NO SAFE PLACE LEFT At great cost to the Garris...</td>\n",
       "      <td>Kodansha Comics</td>\n",
       "      <td>192</td>\n",
       "      <td>none</td>\n",
       "      <td>9781612626864</td>\n",
       "      <td>English</td>\n",
       "      <td>Jul 31, 2014</td>\n",
       "    </tr>\n",
       "    <tr>\n",
       "      <th>1</th>\n",
       "      <td>1</td>\n",
       "      <td>Antiques Roadkill: A Trash 'n' Treasures Mystery</td>\n",
       "      <td>Barbara Allan</td>\n",
       "      <td>3.3</td>\n",
       "      <td>23</td>\n",
       "      <td>26.15</td>\n",
       "      <td>SAR</td>\n",
       "      <td>Determined to make a new start in her quaint h...</td>\n",
       "      <td>Kensington Publishing Corp.</td>\n",
       "      <td>288</td>\n",
       "      <td>Fiction , Mystery &amp;amp, Detective , Cozy , Gen...</td>\n",
       "      <td>9780758272799</td>\n",
       "      <td>English</td>\n",
       "      <td>Jul 1, 2007</td>\n",
       "    </tr>\n",
       "    <tr>\n",
       "      <th>2</th>\n",
       "      <td>2</td>\n",
       "      <td>The Art of Super Mario Odyssey</td>\n",
       "      <td>Nintendo</td>\n",
       "      <td>3.9</td>\n",
       "      <td>9</td>\n",
       "      <td>133.85</td>\n",
       "      <td>SAR</td>\n",
       "      <td>Take a globetrotting journey all over the worl...</td>\n",
       "      <td>Dark Horse Comics</td>\n",
       "      <td>368</td>\n",
       "      <td>Games &amp;amp, Activities , Video &amp;amp, Electronic</td>\n",
       "      <td>9781506713816</td>\n",
       "      <td>English</td>\n",
       "      <td>Nov 5, 2019</td>\n",
       "    </tr>\n",
       "    <tr>\n",
       "      <th>3</th>\n",
       "      <td>3</td>\n",
       "      <td>Getting Away Is Deadly: An Ellie Avery Mystery</td>\n",
       "      <td>Sara Rosett</td>\n",
       "      <td>4.0</td>\n",
       "      <td>10</td>\n",
       "      <td>26.15</td>\n",
       "      <td>SAR</td>\n",
       "      <td>With swollen feet and swelling belly, pregnant...</td>\n",
       "      <td>Kensington Publishing Corp.</td>\n",
       "      <td>320</td>\n",
       "      <td>none</td>\n",
       "      <td>9781617734076</td>\n",
       "      <td>English</td>\n",
       "      <td>Mar 1, 2009</td>\n",
       "    </tr>\n",
       "    <tr>\n",
       "      <th>4</th>\n",
       "      <td>4</td>\n",
       "      <td>The Painted Man (The Demon Cycle, Book 1)</td>\n",
       "      <td>Peter V. Brett</td>\n",
       "      <td>4.5</td>\n",
       "      <td>577</td>\n",
       "      <td>28.54</td>\n",
       "      <td>SAR</td>\n",
       "      <td>The stunning debut fantasy novel from author P...</td>\n",
       "      <td>HarperCollins UK</td>\n",
       "      <td>544</td>\n",
       "      <td>Fiction , Fantasy , Dark Fantasy</td>\n",
       "      <td>9780007287758</td>\n",
       "      <td>English</td>\n",
       "      <td>Jan 8, 2009</td>\n",
       "    </tr>\n",
       "  </tbody>\n",
       "</table>\n",
       "</div>"
      ],
      "text/plain": [
       "   Unnamed: 0                                             title  \\\n",
       "0           0                        Attack on Titan: Volume 13   \n",
       "1           1  Antiques Roadkill: A Trash 'n' Treasures Mystery   \n",
       "2           2                    The Art of Super Mario Odyssey   \n",
       "3           3    Getting Away Is Deadly: An Ellie Avery Mystery   \n",
       "4           4         The Painted Man (The Demon Cycle, Book 1)   \n",
       "\n",
       "           author  rating voters   price currency  \\\n",
       "0  Hajime Isayama     4.6    428   43.28      SAR   \n",
       "1   Barbara Allan     3.3     23   26.15      SAR   \n",
       "2        Nintendo     3.9      9  133.85      SAR   \n",
       "3     Sara Rosett     4.0     10   26.15      SAR   \n",
       "4  Peter V. Brett     4.5    577   28.54      SAR   \n",
       "\n",
       "                                         description  \\\n",
       "0  NO SAFE PLACE LEFT At great cost to the Garris...   \n",
       "1  Determined to make a new start in her quaint h...   \n",
       "2  Take a globetrotting journey all over the worl...   \n",
       "3  With swollen feet and swelling belly, pregnant...   \n",
       "4  The stunning debut fantasy novel from author P...   \n",
       "\n",
       "                     publisher  page_count  \\\n",
       "0              Kodansha Comics         192   \n",
       "1  Kensington Publishing Corp.         288   \n",
       "2            Dark Horse Comics         368   \n",
       "3  Kensington Publishing Corp.         320   \n",
       "4             HarperCollins UK         544   \n",
       "\n",
       "                                             generes           ISBN language  \\\n",
       "0                                               none  9781612626864  English   \n",
       "1  Fiction , Mystery &amp, Detective , Cozy , Gen...  9780758272799  English   \n",
       "2    Games &amp, Activities , Video &amp, Electronic  9781506713816  English   \n",
       "3                                               none  9781617734076  English   \n",
       "4                   Fiction , Fantasy , Dark Fantasy  9780007287758  English   \n",
       "\n",
       "  published_date  \n",
       "0   Jul 31, 2014  \n",
       "1    Jul 1, 2007  \n",
       "2    Nov 5, 2019  \n",
       "3    Mar 1, 2009  \n",
       "4    Jan 8, 2009  "
      ]
     },
     "execution_count": 2,
     "metadata": {},
     "output_type": "execute_result"
    }
   ],
   "source": [
    "book_data = pd.read_csv(\"books.csv\")\n",
    "book_data.head()"
   ]
  },
  {
   "cell_type": "code",
   "execution_count": 3,
   "id": "6291b03f",
   "metadata": {},
   "outputs": [
    {
     "name": "stdout",
     "output_type": "stream",
     "text": [
      "<class 'pandas.core.frame.DataFrame'>\n",
      "RangeIndex: 1299 entries, 0 to 1298\n",
      "Data columns (total 14 columns):\n",
      " #   Column          Non-Null Count  Dtype  \n",
      "---  ------          --------------  -----  \n",
      " 0   Unnamed: 0      1299 non-null   int64  \n",
      " 1   title           1299 non-null   object \n",
      " 2   author          1299 non-null   object \n",
      " 3   rating          1224 non-null   float64\n",
      " 4   voters          1224 non-null   object \n",
      " 5   price           1299 non-null   float64\n",
      " 6   currency        1299 non-null   object \n",
      " 7   description     1296 non-null   object \n",
      " 8   publisher       1299 non-null   object \n",
      " 9   page_count      1299 non-null   int64  \n",
      " 10  generes         1299 non-null   object \n",
      " 11  ISBN            1299 non-null   object \n",
      " 12  language        1299 non-null   object \n",
      " 13  published_date  1299 non-null   object \n",
      "dtypes: float64(2), int64(2), object(10)\n",
      "memory usage: 142.2+ KB\n"
     ]
    }
   ],
   "source": [
    "book_data.info()"
   ]
  },
  {
   "cell_type": "code",
   "execution_count": 4,
   "id": "3e2645b8",
   "metadata": {},
   "outputs": [
    {
     "data": {
      "text/plain": [
       "(1299, 14)"
      ]
     },
     "execution_count": 4,
     "metadata": {},
     "output_type": "execute_result"
    }
   ],
   "source": [
    "book_data.shape"
   ]
  },
  {
   "cell_type": "code",
   "execution_count": 5,
   "id": "98c5be1c",
   "metadata": {},
   "outputs": [
    {
     "name": "stdout",
     "output_type": "stream",
     "text": [
      "Unnamed: 0         0\n",
      "title              0\n",
      "author             0\n",
      "rating            75\n",
      "voters            75\n",
      "price              0\n",
      "currency           0\n",
      "description        3\n",
      "publisher          0\n",
      "page_count         0\n",
      "generes            0\n",
      "ISBN               0\n",
      "language           0\n",
      "published_date     0\n",
      "dtype: int64\n"
     ]
    }
   ],
   "source": [
    "print(book_data.isnull().sum())"
   ]
  },
  {
   "cell_type": "code",
   "execution_count": 6,
   "id": "66a34a36",
   "metadata": {},
   "outputs": [],
   "source": [
    "book_data['rating'].fillna(book_data['rating'].median(), inplace=True)"
   ]
  },
  {
   "cell_type": "code",
   "execution_count": 7,
   "id": "201ac756",
   "metadata": {},
   "outputs": [
    {
     "name": "stdout",
     "output_type": "stream",
     "text": [
      "Unnamed: 0         0\n",
      "title              0\n",
      "author             0\n",
      "rating             0\n",
      "voters            75\n",
      "price              0\n",
      "currency           0\n",
      "description        3\n",
      "publisher          0\n",
      "page_count         0\n",
      "generes            0\n",
      "ISBN               0\n",
      "language           0\n",
      "published_date     0\n",
      "dtype: int64\n"
     ]
    }
   ],
   "source": [
    "print(book_data.isnull().sum())"
   ]
  },
  {
   "cell_type": "code",
   "execution_count": 8,
   "id": "bfb76046",
   "metadata": {},
   "outputs": [
    {
     "data": {
      "text/plain": [
       "Text(0.5, 1.0, 'Top 20 author with number of books')"
      ]
     },
     "execution_count": 8,
     "metadata": {},
     "output_type": "execute_result"
    },
    {
     "data": {
      "image/png": "[encoded data removed]",
      "text/plain": [
       "<Figure size 864x432 with 1 Axes>"
      ]
     },
     "metadata": {
      "needs_background": "light"
     },
     "output_type": "display_data"
    }
   ],
   "source": [
    "plt.figure(figsize=(12,6))\n",
    "sns.countplot(y=\"author\",palette = 'Paired', data=book_data,order=book_data['author'].value_counts().index[0:20])\n",
    "plt.title(\"Top 20 author with number of books\")"
   ]
  },
  {
   "cell_type": "code",
   "execution_count": 9,
   "id": "7457f1ef",
   "metadata": {},
   "outputs": [
    {
     "data": {
      "text/plain": [
       "Text(0.5, 1.0, 'Top 20 Publishers with number of books published')"
      ]
     },
     "execution_count": 9,
     "metadata": {},
     "output_type": "execute_result"
    },
    {
     "data": {
      "image/png": "[encoded data removed]",
      "text/plain": [
       "<Figure size 864x432 with 1 Axes>"
      ]
     },
     "metadata": {
      "needs_background": "light"
     },
     "output_type": "display_data"
    }
   ],
   "source": [
    "plt.figure(figsize=(12,6))\n",
    "sns.countplot(y=\"publisher\",palette = 'Paired', data=book_data,order=book_data['publisher'].value_counts().index[0:20])\n",
    "plt.title(\"Top 20 Publishers with number of books published\")"
   ]
  },
  {
   "cell_type": "code",
   "execution_count": 10,
   "id": "2f4972f0",
   "metadata": {},
   "outputs": [
    {
     "data": {
      "text/plain": [
       "Text(0.5, 1.0, 'Top 20 books as per number of ratings')"
      ]
     },
     "execution_count": 10,
     "metadata": {},
     "output_type": "execute_result"
    },
    {
     "data": {
      "image/png": "[encoded data removed]",
      "text/plain": [
       "<Figure size 864x432 with 1 Axes>"
      ]
     },
     "metadata": {
      "needs_background": "light"
     },
     "output_type": "display_data"
    }
   ],
   "source": [
    "plt.figure(figsize=(12,6))\n",
    "sns.countplot(y=\"title\",palette = 'Paired',data= book_data, order=book_data['title'].value_counts().index[0:15])\n",
    "plt.title(\"Top 20 books as per number of ratings\")"
   ]
  },
  {
   "cell_type": "code",
   "execution_count": null,
   "id": "196c8f9f",
   "metadata": {},
   "outputs": [],
   "source": []
  },
  {
   "cell_type": "code",
   "execution_count": 11,
   "id": "6c97478e",
   "metadata": {},
   "outputs": [
    {
     "name": "stdout",
     "output_type": "stream",
     "text": [
      "Enter your prefered Generes: Comedy\n",
      "The recommended book in the 'Comedy' genre is: Tall Tales and Wee Stories: The Best of Billy Connolly\n"
     ]
    }
   ],
   "source": [
    "from sklearn.feature_extraction.text import TfidfVectorizer\n",
    "from sklearn.metrics.pairwise import cosine_similarity\n",
    "from sklearn.tree import DecisionTreeRegressor\n",
    "from sklearn.preprocessing import StandardScaler\n",
    "\n",
    "scaler = StandardScaler()\n",
    "book_data['rating'] = scaler.fit_transform(book_data['rating'].values.reshape(-1, 1))\n",
    "\n",
    "tfidf_vectorizer = TfidfVectorizer(stop_words='english')\n",
    "tfidf_matrix = tfidf_vectorizer.fit_transform(book_data['title'])\n",
    "\n",
    "X = tfidf_matrix\n",
    "y = book_data['rating']\n",
    "\n",
    "rating_model = DecisionTreeRegressor()\n",
    "rating_model.fit(X, y)\n",
    "\n",
    "preferred_genre = input(\"Enter your prefered Generes: \")\n",
    "\n",
    "for gener in book_data['generes']:\n",
    "      if preferred_genre in gener:\n",
    "        genre_books = book_data[book_data['generes'] == gener] \n",
    "\n",
    "if genre_books.empty:\n",
    "    print(\"No books found in the selected genre.\")\n",
    "    \n",
    "\n",
    "genre_tfidf = tfidf_vectorizer.transform(genre_books['title'])\n",
    "similarity_scores = cosine_similarity(genre_tfidf, tfidf_matrix)\n",
    "\n",
    "top_indices = similarity_scores.argsort(axis=1)[:, -1]\n",
    "\n",
    "highest_rated_book = None\n",
    "highest_rating = -1\n",
    "for index in top_indices:\n",
    "    if rating_model.predict(X[index])[0] > highest_rating:\n",
    "        highest_rating = rating_model.predict(X[index])[0]\n",
    "        highest_rated_book = book_data.iloc[index]['title']\n",
    "        \n",
    "print(f\"The recommended book in the '{preferred_genre}' genre is: {highest_rated_book}\")"
   ]
  },
  {
   "cell_type": "code",
   "execution_count": 12,
   "id": "b93c8d93",
   "metadata": {},
   "outputs": [
    {
     "data": {
      "text/plain": [
       "array(['none', 'Fiction , Mystery &amp, Detective , Cozy , General',\n",
       "       'Games &amp, Activities , Video &amp, Electronic',\n",
       "       'Fiction , Fantasy , Dark Fantasy', 'Fiction , Media Tie-In',\n",
       "       'Fiction , Fantasy , Epic',\n",
       "       'Biography &amp, Autobiography , Medical (incl. Patients)',\n",
       "       'Fiction , Fantasy , Dragons &amp, Mythical Creatures',\n",
       "       'Comics &amp, Graphic Novels , Superheroes',\n",
       "       'Comics & Graphic Novels , Fantasy',\n",
       "       'Biography &amp, Autobiography , Sports',\n",
       "       'Fiction , Fantasy , Military',\n",
       "       'Comics & Graphic Novels , Science Fiction', 'Fiction , Women',\n",
       "       'Juvenile Fiction , Humorous Stories', 'Fiction , Classics',\n",
       "       'Business &amp, Economics , Motivational',\n",
       "       'Social Science , General',\n",
       "       'Fiction , Science Fiction , Action &amp, Adventure',\n",
       "       'Fiction , Mystery &amp, Detective , General',\n",
       "       'Fiction , Mystery &amp, Detective , Women Sleuths',\n",
       "       'Fiction , Noir', 'Business &amp, Economics , Leadership',\n",
       "       'Literary Criticism , General',\n",
       "       'Business &amp, Economics , Accounting , Financial',\n",
       "       'Cooking , Methods , Baking', 'Literary Collections , Letters',\n",
       "       'Fiction , Literary',\n",
       "       'Fiction , Mystery &amp, Detective , Amateur Sleuth',\n",
       "       'Fiction , Thrillers , Suspense',\n",
       "       'Business &amp, Economics , Industries , Computers &amp, Information Technology',\n",
       "       'Self-Help , Personal Growth , General',\n",
       "       'Business &amp, Economics , Industries , General',\n",
       "       'Business &amp, Economics , Marketing , General',\n",
       "       'Family &amp, Relationships , General',\n",
       "       'Fiction , Mystery &amp, Detective , Private Investigators',\n",
       "       'Self-Help , Personal Growth , Self-Esteem',\n",
       "       'Fiction , Thrillers , Crime',\n",
       "       'Business &amp, Economics , Management',\n",
       "       'Business &amp, Economics , Corporate Finance , General',\n",
       "       'Fiction , Crime', 'Fiction , Science Fiction , General',\n",
       "       'Psychology , Interpersonal Relations',\n",
       "       'Business &amp, Economics , Personal Success',\n",
       "       'Fiction , Mystery &amp, Detective , Hard-Boiled',\n",
       "       'Self-Help , Communication &amp, Social Skills',\n",
       "       'Fiction , Mystery &amp, Detective , Police Procedural',\n",
       "       'Fiction , Fantasy , Contemporary',\n",
       "       'Juvenile Fiction , Fantasy &amp, Magic',\n",
       "       'Business &amp, Economics , Personal Finance , General',\n",
       "       'Drama , Shakespeare', 'Fiction , Fantasy , Urban',\n",
       "       'Humor , General', 'Business &amp, Economics , General',\n",
       "       'Sports &amp, Recreation , Soccer',\n",
       "       'Fiction , Thrillers , Supernatural',\n",
       "       'Fiction , Mystery &amp, Detective , International Mystery &amp, Crime',\n",
       "       'History , Modern , 20th Century',\n",
       "       'Fiction , Thrillers , Domestic', 'Fiction , Humorous , General',\n",
       "       'Comics & Graphic Novels , General',\n",
       "       'Fiction , Action &amp, Adventure',\n",
       "       'Fiction , Mystery & Detective , Amateur Sleuth',\n",
       "       'Fiction , General', 'Fiction , Fantasy , General',\n",
       "       'Business &amp, Economics , New Business Enterprises',\n",
       "       'Juvenile Fiction , Science Fiction', 'Poetry , General',\n",
       "       'Self-Help , Self-Management , General', 'Fiction , Horror',\n",
       "       'Fiction , LGBT , Gay', 'Self-Help , Emotions',\n",
       "       'Business &amp, Economics , Reference',\n",
       "       'Business &amp, Economics , Economics , Theory',\n",
       "       'Self-Help , Personal Growth , Success', 'Cooking , General',\n",
       "       'Fiction , Action & Adventure',\n",
       "       'Comics &amp, Graphic Novels , Manga , General',\n",
       "       'Business &amp, Economics , Organizational Behavior',\n",
       "       'Fiction , Fantasy , Action &amp, Adventure',\n",
       "       'Fiction , Thrillers , Military',\n",
       "       'Business &amp, Economics , Conflict Resolution &amp, Mediation',\n",
       "       'Psychology , General', 'Philosophy , General',\n",
       "       'Business & Economics , Mentoring & Coaching',\n",
       "       'History , Military , General',\n",
       "       'Business &amp, Economics , Advertising &amp, Promotion',\n",
       "       'Fiction , Thrillers , Psychological',\n",
       "       'Comics &amp, Graphic Novels , Nonfiction',\n",
       "       'Psychology , Emotions',\n",
       "       'Business &amp, Economics , E-Commerce , General',\n",
       "       'Self-Help , Self-Management , Time Management',\n",
       "       'Juvenile Fiction , General',\n",
       "       'Comics & Graphic Novels , Superheroes',\n",
       "       'Psychology , Creative Ability', 'Fiction , Fantasy , Paranormal',\n",
       "       'Fiction , Fairy Tales, Folk Tales, Legends &amp, Mythology',\n",
       "       'True Crime , General', 'Psychology , Neuropsychology',\n",
       "       'Health &amp, Fitness , Healthy Living',\n",
       "       'Philosophy , Movements , General',\n",
       "       'Psychology , Social Psychology',\n",
       "       'Fiction , Science Fiction , Space Opera',\n",
       "       'Fiction , Psychological',\n",
       "       'Comics &amp, Graphic Novels , Manga , Science Fiction',\n",
       "       'Biography &amp, Autobiography , Historical',\n",
       "       'Business &amp, Economics , Budgeting',\n",
       "       'Business &amp, Economics , Entrepreneurship',\n",
       "       'Technology &amp, Engineering , General',\n",
       "       'Business &amp, Economics , Management Science',\n",
       "       'Self-Help , General',\n",
       "       'Business &amp, Economics , Marketing , Multilevel',\n",
       "       'Business &amp, Economics , Business Communication , General',\n",
       "       'Computers , Electronic Commerce',\n",
       "       'Business &amp, Economics , Training',\n",
       "       'Business &amp, Economics , Decision-Making &amp, Problem Solving',\n",
       "       'Computers , System Administration , Storage &amp, Retrieval',\n",
       "       'Biography &amp, Autobiography , Literary Figures',\n",
       "       'Fiction , Thrillers , Political', 'Medical , Internal Medicine',\n",
       "       'Self-Help , Self-Management , Stress Management',\n",
       "       'Young Adult Fiction , Fantasy , Epic',\n",
       "       'Social Science , Gender Studies',\n",
       "       'Fiction , Thrillers , Espionage', 'History , Military , Strategy',\n",
       "       'Nature , Environmental Conservation &amp, Protection',\n",
       "       'Business &amp, Economics , Finance , General',\n",
       "       'Fiction , Thrillers , General', 'Art , Popular Culture',\n",
       "       'Body, Mind &amp, Spirit , Inspiration &amp, Personal Growth',\n",
       "       'Business & Economics , Accounting , General',\n",
       "       'Biography &amp, Autobiography , Environmentalists &amp, Naturalists',\n",
       "       'Psychology , Physiological Psychology',\n",
       "       'Psychology , Movements , Psychoanalysis',\n",
       "       'Business &amp, Economics , Personal Finance , Budgeting',\n",
       "       'Political Science , Civics &amp, Citizenship',\n",
       "       'Fiction , Science Fiction , Alien Contact',\n",
       "       'Fiction , Mystery &amp, Detective , Traditional',\n",
       "       'Fiction , Fantasy , Collections &amp, Anthologies',\n",
       "       'Comics &amp, Graphic Novels , Humorous',\n",
       "       'Business &amp, Economics , Workplace Culture',\n",
       "       'Business &amp, Economics , Sales &amp, Selling , General',\n",
       "       'Business &amp, Economics , Information Management',\n",
       "       'Biography &amp, Autobiography , Science &amp, Technology',\n",
       "       'Political Science , Public Affairs &amp, Administration',\n",
       "       'Cooking , Holiday', 'Social Science , Popular Culture',\n",
       "       'Social Science , Sociology , General',\n",
       "       'Business &amp, Economics , Public Finance',\n",
       "       'Business &amp, Economics , Skills',\n",
       "       'Young Adult Fiction , Animals , Mythical Creatures',\n",
       "       'Business &amp, Economics , Personal Finance , Investing',\n",
       "       'Biography &amp, Autobiography , Entertainment &amp, Performing Arts',\n",
       "       'Business &amp, Economics , Time Management',\n",
       "       'Business &amp, Economics , E-Commerce , Online Trading',\n",
       "       'Fiction , Mystery & Detective , General',\n",
       "       'Fiction , Thrillers , Technological',\n",
       "       'Biography &amp, Autobiography , Personal Memoirs',\n",
       "       'Fiction , War &amp, Military', 'Fiction , Family Life , General',\n",
       "       'Comics &amp, Graphic Novels , Fantasy',\n",
       "       'Fiction , Short Stories (single author)',\n",
       "       'Young Adult Fiction , Family , General',\n",
       "       'Comics & Graphic Novels , Horror',\n",
       "       'Business &amp, Economics , Accounting , Managerial',\n",
       "       'Body, Mind &amp, Spirit , General',\n",
       "       'Self-Help , Motivational &amp, Inspirational',\n",
       "       'Psychology , Cognitive Psychology &amp, Cognition',\n",
       "       'Biography &amp, Autobiography , Military',\n",
       "       'Family &amp, Relationships , Friendship',\n",
       "       'Fiction , Coming of Age',\n",
       "       'Philosophy , History &amp, Surveys , General',\n",
       "       'Philosophy , History &amp, Surveys , Modern',\n",
       "       'Business &amp, Economics , Economics , General',\n",
       "       'Fiction , Animals',\n",
       "       'Political Science , Political Ideologies , General',\n",
       "       'Fiction , Dystopian',\n",
       "       'Business &amp, Economics , Consumer Behavior',\n",
       "       'Business &amp, Economics , Careers , General',\n",
       "       'Business &amp, Economics , Industries , Entertainment',\n",
       "       'Fiction , Thrillers , Legal', 'Social Science , Essays',\n",
       "       'Business &amp, Economics , Strategic Planning',\n",
       "       'Political Science , Essays',\n",
       "       'Humor , Topic , Celebrity &amp, Popular Culture',\n",
       "       'Young Adult Fiction , Fantasy , Dark Fantasy',\n",
       "       'Science , Global Warming &amp, Climate Change',\n",
       "       'Body, Mind &amp, Spirit , New Thought',\n",
       "       'Sports &amp, Recreation , General',\n",
       "       'Comics &amp, Graphic Novels , Horror',\n",
       "       'Computers , Data Processing',\n",
       "       'Juvenile Nonfiction , Curiosities &amp, Wonders',\n",
       "       'Juvenile Fiction , Action &amp, Adventure , General',\n",
       "       'Business &amp, Economics , Business Mathematics',\n",
       "       'Computers , Information Technology', 'Psychology , Mental Health',\n",
       "       'Medical , General', 'Humor , Form , Comic Strips &amp, Cartoons',\n",
       "       'Performing Arts , Television , Genres , Comedy',\n",
       "       'Social Science , Criminology',\n",
       "       'Business &amp, Economics , Human Resources &amp, Personnel Management',\n",
       "       'Poetry , European , none, Irish, Scottish, Welsh',\n",
       "       'Biography &amp, Autobiography , Rich &amp, Famous',\n",
       "       'Fiction , Small Town &amp, Rural',\n",
       "       'Fiction , Thrillers , Terrorism',\n",
       "       'Fiction , Mystery &amp, Detective , Historical',\n",
       "       'Business &amp, Economics , Investments &amp, Securities , Stocks',\n",
       "       'Business &amp, Economics , Customer Relations',\n",
       "       'Business &amp, Economics , Development , Business Development',\n",
       "       'Biography &amp, Autobiography , Social Activists',\n",
       "       'Young Adult Fiction , Science Fiction , Alien Contact',\n",
       "       'Computers , Software Development &amp, Engineering , General',\n",
       "       'Business &amp, Economics , Personal Finance , Money Management',\n",
       "       'Fiction , Science Fiction , Humorous',\n",
       "       'Fiction , Alternative History',\n",
       "       'Biography &amp, Autobiography , Business',\n",
       "       'Poetry , American , General',\n",
       "       'Young Adult Fiction , Fairy Tales &amp, Folklore , General',\n",
       "       'Business &amp, Economics , Organizational Development',\n",
       "       'Business &amp, Economics , Business Communication , Meetings &amp, Presentations',\n",
       "       'True Crime , Organized Crime',\n",
       "       'Social Science , Feminism &amp, Feminist Theory',\n",
       "       'Comics &amp, Graphic Novels , Media Tie-In',\n",
       "       'Juvenile Fiction , Comics &amp, Graphic Novels , General',\n",
       "       'Fiction , Mystery &amp, Detective , Collections &amp, Anthologies',\n",
       "       'Music , Genres &amp, Styles , Musicals',\n",
       "       'Computers , Web , Social Media',\n",
       "       'Family &amp, Relationships , Life Stages , School Age',\n",
       "       'Juvenile Fiction , Social Themes , Friendship',\n",
       "       'Business &amp, Economics , Corporate &amp, Business History',\n",
       "       'Computers , Desktop Applications , General',\n",
       "       'Humor , Topic , Business &amp, Professional',\n",
       "       'Self-Help , Personal Growth , Happiness',\n",
       "       'Young Adult Fiction , Humorous , General', 'Fiction , Satire',\n",
       "       'Biography &amp, Autobiography , LGBT', 'Art , Video Game Art',\n",
       "       'Performing Arts , Theater , General',\n",
       "       'Cooking , Courses &amp, Dishes , Cookies',\n",
       "       'Business &amp, Economics , E-Commerce , Internet Marketing',\n",
       "       'Business &amp, Economics , Accounting , General',\n",
       "       'Medical , Health Care Delivery'], dtype=object)"
      ]
     },
     "execution_count": 12,
     "metadata": {},
     "output_type": "execute_result"
    }
   ],
   "source": [
    "book_data['generes'].unique()"
   ]
  },
  {
   "cell_type": "code",
   "execution_count": null,
   "id": "259b1bed",
   "metadata": {},
   "outputs": [],
   "source": []
  }
 ],
 "metadata": {
  "kernelspec": {
   "display_name": "Python 3 (ipykernel)",
   "language": "python",
   "name": "python3"
  },
  "language_info": {
   "codemirror_mode": {
    "name": "ipython",
    "version": 3
   },
   "file_extension": ".py",
   "mimetype": "text/x-python",
   "name": "python",
   "nbconvert_exporter": "python",
   "pygments_lexer": "ipython3",
   "version": "3.10.9"
  }
 },
 "nbformat": 4,
 "nbformat_minor": 5
}
